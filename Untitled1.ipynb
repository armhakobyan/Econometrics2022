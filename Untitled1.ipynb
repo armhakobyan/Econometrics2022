{
 "cells": [
  {
   "cell_type": "code",
   "execution_count": null,
   "id": "fbdc1312",
   "metadata": {},
   "outputs": [],
   "source": [
    "myDict = {'word': \"Econometrics\",\n",
    "'sentence': \"If the implementation is easy to explain, it may be a good idea.\",\n",
    "'big_list': [\"python\", 3, \"anaconda\", 3.6, \"jupyter\", 10, \"lessons\", \"many\", 99],\n",
    "'empty_list': []\n",
    "}\n",
    "#1,2\n",
    "if not myDict['word'].isupper():\n",
    "    myDict['word'] =\"Applied_\"+ myDict['word'].upper() \n",
    "\n",
    "#3\n",
    "sentences = myDict['sentence'].split(\" \")\n",
    "sentences[2] = \"Armen\"\n",
    "new_sentence = \" \".join(sentences)\n",
    "myDict['sentence'] = new_sentence\n",
    "\n",
    "#4\n",
    "for item in myDict['big_list']:\n",
    "    if type(item) == str:\n",
    "        print(item[0])\n",
    " #5       \n",
    "sum = 0\n",
    "for item in myDict['big_list']:\n",
    "    if type(item) == int:\n",
    "        sum+= item\n",
    "print(sum)\n",
    "sum1 = 0\n",
    "myDict['big_list'].remove(myDict['big_list'][-1])\n",
    "myDict['big_list'].append(87)\n",
    "for item in myDict['big_list']:\n",
    "    if type(item) == int:\n",
    "        sum1+= item\n",
    "print(sum1)\n",
    "\n",
    "\n",
    "#7\n",
    "my_list = []\n",
    "count_odd = 0\n",
    "count_prime = 0\n",
    "for i in range(10,100):\n",
    "    my_list.append(i)\n",
    "\n",
    "for number in my_list:\n",
    "    if number % 2 == 0:\n",
    "        count_prime +=1\n",
    "    elif number % 2 == 1:\n",
    "        count_odd +=1\n",
    "\n",
    "print(count_odd, count_prime)\n",
    "\n",
    "\n",
    "for key in myDict:\n",
    "    print(myDict[key])"
   ]
  }
 ],
 "metadata": {
  "kernelspec": {
   "display_name": "Python 3 (ipykernel)",
   "language": "python",
   "name": "python3"
  },
  "language_info": {
   "codemirror_mode": {
    "name": "ipython",
    "version": 3
   },
   "file_extension": ".py",
   "mimetype": "text/x-python",
   "name": "python",
   "nbconvert_exporter": "python",
   "pygments_lexer": "ipython3",
   "version": "3.9.7"
  }
 },
 "nbformat": 4,
 "nbformat_minor": 5
}
